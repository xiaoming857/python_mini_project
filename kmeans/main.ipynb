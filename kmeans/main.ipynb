{
 "cells": [
  {
   "cell_type": "markdown",
   "id": "southern-accountability",
   "metadata": {},
   "source": [
    "# Exercises\n",
    "Arvin Lee (2301956134)"
   ]
  },
  {
   "cell_type": "code",
   "execution_count": 1,
   "id": "together-warner",
   "metadata": {},
   "outputs": [],
   "source": [
    "# Imports\n",
    "from math import sqrt\n",
    "from copy import deepcopy\n",
    "import matplotlib.pyplot as plt\n",
    "import pandas as pd\n",
    "import numpy as np"
   ]
  },
  {
   "cell_type": "code",
   "execution_count": 2,
   "id": "worldwide-closure",
   "metadata": {},
   "outputs": [],
   "source": [
    "# Kmeans Logics\n",
    "def getDistance(point1: list, point2: list):\n",
    "    return sqrt((point2[0] - point1[0])**2 + (point2[1] - point1[1])**2)\n",
    "\n",
    "\n",
    "def getNewClusters(df: pd.DataFrame, clusterSize: int):\n",
    "    newClusters = []\n",
    "    for i in range(clusterSize):\n",
    "        positions = df[df['closest to C[n]'] == i].iloc[:, 0:2].values\n",
    "        positionSum = sum(positions)\n",
    "        newClusters.append([positionSum[0] / len(positions), positionSum[1] / len(positions)])\n",
    "    return newClusters\n",
    "\n",
    "\n",
    "def kmeans(points: list, clusters: list, limit=5):\n",
    "    points = deepcopy(points)\n",
    "    clusters = deepcopy(clusters)\n",
    "    df = pd.DataFrame(points, columns = ['x', 'y'])\n",
    "\n",
    "    print('=====Start=====')\n",
    "    for i in range(5):\n",
    "        j = 0\n",
    "        while j < len(clusters):\n",
    "            # Calculate the distance between every point toward every cluster\n",
    "            df[f'dist from C[{j}]'] = [getDistance([point[0], point[1]], clusters[j]) for point in df.iloc[:, 0:2].values]\n",
    "            j += 1\n",
    "            \n",
    "        closestToCn = [np.where(dist == np.amin(dist))[0][0] for dist in df.iloc[:, 2:2+len(clusters)].values]\n",
    "        if ('closest to C[n]' in df and (df['closest to C[n]'] == closestToCn).all().item()): break # Break if points remain in the same cluster\n",
    "        df['closest to C[n]'] = closestToCn\n",
    "\n",
    "        print(f'=Itter {i}=\\n{df}\\n')\n",
    "        newClusters: list = getNewClusters(df, len(clusters))\n",
    "        if (clusters == newClusters): # Break if centroids have stabilize\n",
    "            break\n",
    "        clusters = newClusters\n",
    "    print('=====End=====')\n",
    "    return df, clusters"
   ]
  },
  {
   "cell_type": "markdown",
   "id": "typical-memphis",
   "metadata": {},
   "source": [
    "## Task 1\n",
    "\n",
    "| Axis  | p1   | p2   | p3   | p4   | p5   | p6   | p7   | p8   |\n",
    "| ----- | ---- | ---- | ---- | ---- | ---- | ---- | ---- | ---- |\n",
    "| **x** | 1    | 1    | 5    | 4    | 4    | 8    | 8    | 2    |\n",
    "| **y** | 5    | 2    | 8    | 8    | 9    | 3    | 2    | 1    |\n",
    "\n",
    "Given the data in the table, do the K-means clustering with k=3 and initial centroid:\n",
    "\n",
    "1. C1 (1, 10)\n",
    "2. C2 (5, 8)\n",
    "3. C3 (9, 2)"
   ]
  },
  {
   "cell_type": "code",
   "execution_count": 3,
   "id": "continued-strap",
   "metadata": {},
   "outputs": [
    {
     "name": "stdout",
     "output_type": "stream",
     "text": [
      "=====Start=====\n",
      "=Itter 0=\n",
      "   x  y  dist from C[0]  dist from C[1]  dist from C[2]  closest to C[n]\n",
      "0  1  5        5.000000        5.000000        8.544004                0\n",
      "1  1  2        8.000000        7.211103        8.000000                1\n",
      "2  5  8        4.472136        0.000000        7.211103                1\n",
      "3  4  8        3.605551        1.000000        7.810250                1\n",
      "4  4  9        3.162278        1.414214        8.602325                1\n",
      "5  8  3        9.899495        5.830952        1.414214                2\n",
      "6  8  2       10.630146        6.708204        1.000000                2\n",
      "7  2  1        9.055385        7.615773        7.071068                2\n",
      "\n",
      "=Itter 1=\n",
      "   x  y  dist from C[0]  dist from C[1]  dist from C[2]  closest to C[n]\n",
      "0  1  5        0.000000        3.051639        5.830952                0\n",
      "1  1  2        3.000000        5.367728        5.000000                0\n",
      "2  5  8        5.000000        1.952562        6.082763                1\n",
      "3  4  8        4.242641        1.346291        6.324555                1\n",
      "4  4  9        5.000000        2.304886        7.280110                1\n",
      "5  8  3        7.280110        5.857687        2.236068                2\n",
      "6  8  2        7.615773        6.543126        2.000000                2\n",
      "7  2  1        4.123106        5.942432        4.123106                0\n",
      "\n",
      "=====End=====\n"
     ]
    }
   ],
   "source": [
    "points = [[1, 5], [1, 2], [5, 8], [4, 8], [4, 9], [8, 3], [8, 2], [2, 1]]\n",
    "clusters = [[1, 10], [5, 8], [9, 2]]\n",
    "df, clusters = kmeans(points, clusters)"
   ]
  },
  {
   "cell_type": "code",
   "execution_count": 4,
   "id": "mounted-thesis",
   "metadata": {},
   "outputs": [
    {
     "data": {
      "text/plain": [
       "[[1.3333333333333333, 2.6666666666666665],\n",
       " [4.333333333333333, 8.333333333333334],\n",
       " [8.0, 2.5]]"
      ]
     },
     "execution_count": 4,
     "metadata": {},
     "output_type": "execute_result"
    }
   ],
   "source": [
    "clusters"
   ]
  },
  {
   "cell_type": "code",
   "execution_count": 5,
   "id": "decreased-carter",
   "metadata": {},
   "outputs": [
    {
     "data": {
      "text/html": [
       "<div>\n",
       "<style scoped>\n",
       "    .dataframe tbody tr th:only-of-type {\n",
       "        vertical-align: middle;\n",
       "    }\n",
       "\n",
       "    .dataframe tbody tr th {\n",
       "        vertical-align: top;\n",
       "    }\n",
       "\n",
       "    .dataframe thead th {\n",
       "        text-align: right;\n",
       "    }\n",
       "</style>\n",
       "<table border=\"1\" class=\"dataframe\">\n",
       "  <thead>\n",
       "    <tr style=\"text-align: right;\">\n",
       "      <th></th>\n",
       "      <th>x</th>\n",
       "      <th>y</th>\n",
       "      <th>dist from C[0]</th>\n",
       "      <th>dist from C[1]</th>\n",
       "      <th>dist from C[2]</th>\n",
       "      <th>closest to C[n]</th>\n",
       "    </tr>\n",
       "  </thead>\n",
       "  <tbody>\n",
       "    <tr>\n",
       "      <th>0</th>\n",
       "      <td>1</td>\n",
       "      <td>5</td>\n",
       "      <td>2.357023</td>\n",
       "      <td>4.714045</td>\n",
       "      <td>7.433034</td>\n",
       "      <td>0</td>\n",
       "    </tr>\n",
       "    <tr>\n",
       "      <th>1</th>\n",
       "      <td>1</td>\n",
       "      <td>2</td>\n",
       "      <td>0.745356</td>\n",
       "      <td>7.156970</td>\n",
       "      <td>7.017834</td>\n",
       "      <td>0</td>\n",
       "    </tr>\n",
       "    <tr>\n",
       "      <th>2</th>\n",
       "      <td>5</td>\n",
       "      <td>8</td>\n",
       "      <td>6.472163</td>\n",
       "      <td>0.745356</td>\n",
       "      <td>6.264982</td>\n",
       "      <td>1</td>\n",
       "    </tr>\n",
       "    <tr>\n",
       "      <th>3</th>\n",
       "      <td>4</td>\n",
       "      <td>8</td>\n",
       "      <td>5.962848</td>\n",
       "      <td>0.471405</td>\n",
       "      <td>6.800735</td>\n",
       "      <td>1</td>\n",
       "    </tr>\n",
       "    <tr>\n",
       "      <th>4</th>\n",
       "      <td>4</td>\n",
       "      <td>9</td>\n",
       "      <td>6.871843</td>\n",
       "      <td>0.745356</td>\n",
       "      <td>7.632169</td>\n",
       "      <td>1</td>\n",
       "    </tr>\n",
       "    <tr>\n",
       "      <th>5</th>\n",
       "      <td>8</td>\n",
       "      <td>3</td>\n",
       "      <td>6.674995</td>\n",
       "      <td>6.472163</td>\n",
       "      <td>0.500000</td>\n",
       "      <td>2</td>\n",
       "    </tr>\n",
       "    <tr>\n",
       "      <th>6</th>\n",
       "      <td>8</td>\n",
       "      <td>2</td>\n",
       "      <td>6.699917</td>\n",
       "      <td>7.318166</td>\n",
       "      <td>0.500000</td>\n",
       "      <td>2</td>\n",
       "    </tr>\n",
       "    <tr>\n",
       "      <th>7</th>\n",
       "      <td>2</td>\n",
       "      <td>1</td>\n",
       "      <td>1.795055</td>\n",
       "      <td>7.695598</td>\n",
       "      <td>6.184658</td>\n",
       "      <td>0</td>\n",
       "    </tr>\n",
       "  </tbody>\n",
       "</table>\n",
       "</div>"
      ],
      "text/plain": [
       "   x  y  dist from C[0]  dist from C[1]  dist from C[2]  closest to C[n]\n",
       "0  1  5        2.357023        4.714045        7.433034                0\n",
       "1  1  2        0.745356        7.156970        7.017834                0\n",
       "2  5  8        6.472163        0.745356        6.264982                1\n",
       "3  4  8        5.962848        0.471405        6.800735                1\n",
       "4  4  9        6.871843        0.745356        7.632169                1\n",
       "5  8  3        6.674995        6.472163        0.500000                2\n",
       "6  8  2        6.699917        7.318166        0.500000                2\n",
       "7  2  1        1.795055        7.695598        6.184658                0"
      ]
     },
     "execution_count": 5,
     "metadata": {},
     "output_type": "execute_result"
    }
   ],
   "source": [
    "df"
   ]
  },
  {
   "cell_type": "code",
   "execution_count": 6,
   "id": "conservative-reform",
   "metadata": {},
   "outputs": [
    {
     "data": {
      "text/plain": [
       "<matplotlib.collections.PathCollection at 0x7f044dd4a340>"
      ]
     },
     "execution_count": 6,
     "metadata": {},
     "output_type": "execute_result"
    },
    {
     "data": {
      "image/png": "[encoded data removed]",
      "text/plain": [
       "<Figure size 576x576 with 1 Axes>"
      ]
     },
     "metadata": {
      "needs_background": "light"
     },
     "output_type": "display_data"
    }
   ],
   "source": [
    "group1 = np.transpose(df[df['closest to C[n]'] == 0].iloc[:, :2].values)\n",
    "cluster1 = clusters[0]\n",
    "group2 = np.transpose(df[df['closest to C[n]'] == 1].iloc[:, :2].values)\n",
    "cluster2 = clusters[1]\n",
    "group3 = np.transpose(df[df['closest to C[n]'] == 2].iloc[:, :2].values)\n",
    "cluster3 = clusters[2]\n",
    "\n",
    "# Plotting\n",
    "plt.figure(figsize=(8,8))\n",
    "\n",
    "plt.scatter(group1[0], group1[1])\n",
    "plt.scatter(cluster1[0], cluster1[1], marker='x')\n",
    "\n",
    "plt.scatter(group2[0], group2[1])\n",
    "plt.scatter(cluster2[0], cluster2[1], marker='x')\n",
    "\n",
    "plt.scatter(group3[0], group3[1])\n",
    "plt.scatter(cluster3[0], cluster3[1], marker='x')"
   ]
  },
  {
   "cell_type": "markdown",
   "id": "crucial-medicaid",
   "metadata": {},
   "source": [
    "## Task 2\n",
    "\n",
    "| Axis     | p1   | p2   | p3   | p4   | p5   | p6   | p7   |\n",
    "| -------- | ---- | ---- | ---- | ---- | ---- | ---- | ---- |\n",
    "| **var1** | 1.0  | 1.5  | 3.0  | 5.0  | 3.5  | 4.5  | 3.5  |\n",
    "| **var2** | 1.0  | 2.0  | 4.0  | 7.0  | 5.0  | 5.0  | 4.5  |\n",
    "\n",
    "Given the data in the table, do the K-means clustering with k=2 and initial centroid:\n",
    "\n",
    "| Initial centroid | var1 | var2 |\n",
    "| ---------------- | ---- | ---- |\n",
    "| c1               | 2.00 | 2.00 |\n",
    "| c2               | 5.00 | 7.00 |\n",
    "\n",
    "Plot the data in x and y axis, and make the circles to show your final clusters.\n",
    "\n",
    "> Note: if you find the same distance between the point and the centroids, pick the first cluster."
   ]
  },
  {
   "cell_type": "code",
   "execution_count": 7,
   "id": "prepared-facility",
   "metadata": {},
   "outputs": [
    {
     "name": "stdout",
     "output_type": "stream",
     "text": [
      "=====Start=====\n",
      "=Itter 0=\n",
      "     x    y  dist from C[0]  dist from C[1]  closest to C[n]\n",
      "0  1.0  1.0        4.123106        6.082763                0\n",
      "1  1.5  2.0        3.041381        5.024938                0\n",
      "2  3.0  4.0        1.414214        3.162278                0\n",
      "3  5.0  7.0        3.605551        3.000000                1\n",
      "4  3.5  5.0        1.500000        2.500000                0\n",
      "5  4.5  5.0        2.500000        3.201562                0\n",
      "6  3.5  4.5        1.581139        2.915476                0\n",
      "\n",
      "=Itter 1=\n",
      "     x    y  dist from C[0]  dist from C[1]  closest to C[n]\n",
      "0  1.0  1.0        3.167763        7.211103                0\n",
      "1  1.5  2.0        2.069957        6.103278                0\n",
      "2  3.0  4.0        0.448764        3.605551                0\n",
      "3  5.0  7.0        4.045745        0.000000                1\n",
      "4  3.5  5.0        1.565691        2.500000                0\n",
      "5  4.5  5.0        2.187401        2.061553                1\n",
      "6  3.5  4.5        1.133456        2.915476                0\n",
      "\n",
      "=Itter 2=\n",
      "     x    y  dist from C[0]  dist from C[1]  closest to C[n]\n",
      "0  1.0  1.0        2.745906        6.250000                0\n",
      "1  1.5  2.0        1.640122        5.153882                0\n",
      "2  3.0  4.0        0.860233        2.657536                0\n",
      "3  5.0  7.0        4.465423        1.030776                1\n",
      "4  3.5  5.0        1.972308        1.600781                1\n",
      "5  4.5  5.0        2.624881        1.030776                1\n",
      "6  3.5  4.5        1.562050        1.952562                0\n",
      "\n",
      "=Itter 3=\n",
      "     x    y  dist from C[0]  dist from C[1]  closest to C[n]\n",
      "0  1.0  1.0        2.253470        5.734884                0\n",
      "1  1.5  2.0        1.152443        4.633813                0\n",
      "2  3.0  4.0        1.352082        2.134375                0\n",
      "3  5.0  7.0        4.957633        1.490712                1\n",
      "4  3.5  5.0        2.465385        1.067187                1\n",
      "5  4.5  5.0        3.094855        0.687184                1\n",
      "6  3.5  4.5        2.050152        1.433721                1\n",
      "\n",
      "=Itter 4=\n",
      "     x    y  dist from C[0]  dist from C[1]  closest to C[n]\n",
      "0  1.0  1.0        1.572330        5.376453                0\n",
      "1  1.5  2.0        0.471405        4.275658                0\n",
      "2  3.0  4.0        2.034426        1.776584                1\n",
      "3  5.0  7.0        5.639641        1.845603                1\n",
      "4  3.5  5.0        3.144660        0.728869                1\n",
      "5  4.5  5.0        3.771236        0.530330                1\n",
      "6  3.5  4.5        2.733537        1.075291                1\n",
      "\n",
      "=====End=====\n"
     ]
    }
   ],
   "source": [
    "points = [[1.0, 1.0], [1.5, 2.0], [3.0, 4.0], [5.0, 7.0], [3.5, 5.0], [4.5, 5.0], [3.5, 4.5]]\n",
    "clusters = [[2.00, 5.00], [2.00, 7.00]]\n",
    "df, clusters = kmeans(points, clusters)"
   ]
  },
  {
   "cell_type": "code",
   "execution_count": 8,
   "id": "fatty-oasis",
   "metadata": {},
   "outputs": [
    {
     "data": {
      "text/plain": [
       "[[1.25, 1.5], [3.9, 5.1]]"
      ]
     },
     "execution_count": 8,
     "metadata": {},
     "output_type": "execute_result"
    }
   ],
   "source": [
    "clusters"
   ]
  },
  {
   "cell_type": "code",
   "execution_count": 9,
   "id": "durable-concentration",
   "metadata": {},
   "outputs": [
    {
     "data": {
      "text/html": [
       "<div>\n",
       "<style scoped>\n",
       "    .dataframe tbody tr th:only-of-type {\n",
       "        vertical-align: middle;\n",
       "    }\n",
       "\n",
       "    .dataframe tbody tr th {\n",
       "        vertical-align: top;\n",
       "    }\n",
       "\n",
       "    .dataframe thead th {\n",
       "        text-align: right;\n",
       "    }\n",
       "</style>\n",
       "<table border=\"1\" class=\"dataframe\">\n",
       "  <thead>\n",
       "    <tr style=\"text-align: right;\">\n",
       "      <th></th>\n",
       "      <th>x</th>\n",
       "      <th>y</th>\n",
       "      <th>dist from C[0]</th>\n",
       "      <th>dist from C[1]</th>\n",
       "      <th>closest to C[n]</th>\n",
       "    </tr>\n",
       "  </thead>\n",
       "  <tbody>\n",
       "    <tr>\n",
       "      <th>0</th>\n",
       "      <td>1.0</td>\n",
       "      <td>1.0</td>\n",
       "      <td>1.572330</td>\n",
       "      <td>5.376453</td>\n",
       "      <td>0</td>\n",
       "    </tr>\n",
       "    <tr>\n",
       "      <th>1</th>\n",
       "      <td>1.5</td>\n",
       "      <td>2.0</td>\n",
       "      <td>0.471405</td>\n",
       "      <td>4.275658</td>\n",
       "      <td>0</td>\n",
       "    </tr>\n",
       "    <tr>\n",
       "      <th>2</th>\n",
       "      <td>3.0</td>\n",
       "      <td>4.0</td>\n",
       "      <td>2.034426</td>\n",
       "      <td>1.776584</td>\n",
       "      <td>1</td>\n",
       "    </tr>\n",
       "    <tr>\n",
       "      <th>3</th>\n",
       "      <td>5.0</td>\n",
       "      <td>7.0</td>\n",
       "      <td>5.639641</td>\n",
       "      <td>1.845603</td>\n",
       "      <td>1</td>\n",
       "    </tr>\n",
       "    <tr>\n",
       "      <th>4</th>\n",
       "      <td>3.5</td>\n",
       "      <td>5.0</td>\n",
       "      <td>3.144660</td>\n",
       "      <td>0.728869</td>\n",
       "      <td>1</td>\n",
       "    </tr>\n",
       "    <tr>\n",
       "      <th>5</th>\n",
       "      <td>4.5</td>\n",
       "      <td>5.0</td>\n",
       "      <td>3.771236</td>\n",
       "      <td>0.530330</td>\n",
       "      <td>1</td>\n",
       "    </tr>\n",
       "    <tr>\n",
       "      <th>6</th>\n",
       "      <td>3.5</td>\n",
       "      <td>4.5</td>\n",
       "      <td>2.733537</td>\n",
       "      <td>1.075291</td>\n",
       "      <td>1</td>\n",
       "    </tr>\n",
       "  </tbody>\n",
       "</table>\n",
       "</div>"
      ],
      "text/plain": [
       "     x    y  dist from C[0]  dist from C[1]  closest to C[n]\n",
       "0  1.0  1.0        1.572330        5.376453                0\n",
       "1  1.5  2.0        0.471405        4.275658                0\n",
       "2  3.0  4.0        2.034426        1.776584                1\n",
       "3  5.0  7.0        5.639641        1.845603                1\n",
       "4  3.5  5.0        3.144660        0.728869                1\n",
       "5  4.5  5.0        3.771236        0.530330                1\n",
       "6  3.5  4.5        2.733537        1.075291                1"
      ]
     },
     "execution_count": 9,
     "metadata": {},
     "output_type": "execute_result"
    }
   ],
   "source": [
    "df"
   ]
  },
  {
   "cell_type": "code",
   "execution_count": 10,
   "id": "grave-berkeley",
   "metadata": {},
   "outputs": [
    {
     "data": {
      "text/plain": [
       "<matplotlib.collections.PathCollection at 0x7f044dd326d0>"
      ]
     },
     "execution_count": 10,
     "metadata": {},
     "output_type": "execute_result"
    },
    {
     "data": {
      "image/png": "[encoded data removed]",
      "text/plain": [
       "<Figure size 576x576 with 1 Axes>"
      ]
     },
     "metadata": {
      "needs_background": "light"
     },
     "output_type": "display_data"
    }
   ],
   "source": [
    "group1 = np.transpose(df[df['closest to C[n]'] == 0].iloc[:, :2].values)\n",
    "cluster1 = clusters[0]\n",
    "group2 = np.transpose(df[df['closest to C[n]'] == 1].iloc[:, :2].values)\n",
    "cluster2 = clusters[1]\n",
    "\n",
    "# Plotting\n",
    "plt.figure(figsize=(8,8))\n",
    "\n",
    "plt.scatter(group1[0], group1[1])\n",
    "plt.scatter(cluster1[0], cluster1[1], marker='x')\n",
    "\n",
    "plt.scatter(group2[0], group2[1])\n",
    "plt.scatter(cluster2[0], cluster2[1], marker='x')"
   ]
  },
  {
   "cell_type": "markdown",
   "id": "analyzed-funds",
   "metadata": {},
   "source": [
    "### Conclusion\n",
    "The steps in kmeans are simple, there are mainly 3:\n",
    "1. Define the number of cluster and initial clusters\n",
    "2. Find distance between every cluster to every points\n",
    "3. Calculate a new clusters and repeat from step 2 until either centroids have stabilize or points remain in the same cluster."
   ]
  }
 ],
 "metadata": {
  "kernelspec": {
   "display_name": "Python 3",
   "language": "python",
   "name": "python3"
  },
  "language_info": {
   "codemirror_mode": {
    "name": "ipython",
    "version": 3
   },
   "file_extension": ".py",
   "mimetype": "text/x-python",
   "name": "python",
   "nbconvert_exporter": "python",
   "pygments_lexer": "ipython3",
   "version": "3.8.8"
  }
 },
 "nbformat": 4,
 "nbformat_minor": 5
}
